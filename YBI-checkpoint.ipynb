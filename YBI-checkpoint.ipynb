{
 "cells": [
  {
   "cell_type": "markdown",
   "id": "1ac4ad7c",
   "metadata": {},
   "source": [
    "IMPORT LIBRARY"
   ]
  },
  {
   "cell_type": "code",
   "execution_count": 9,
   "id": "c7dac2ec",
   "metadata": {},
   "outputs": [],
   "source": [
    "import pandas as pd"
   ]
  },
  {
   "cell_type": "code",
   "execution_count": 10,
   "id": "c27be19f",
   "metadata": {},
   "outputs": [],
   "source": [
    "import numpy as np"
   ]
  },
  {
   "cell_type": "code",
   "execution_count": 11,
   "id": "4b8df69a",
   "metadata": {},
   "outputs": [],
   "source": [
    "import matplotlib.pyplot as plt"
   ]
  },
  {
   "cell_type": "markdown",
   "id": "373aed34",
   "metadata": {},
   "source": [
    "IMPORT DATA"
   ]
  },
  {
   "cell_type": "code",
   "execution_count": 12,
   "id": "89d12a57",
   "metadata": {},
   "outputs": [],
   "source": [
    "from sklearn.datasets import load_digits"
   ]
  },
  {
   "cell_type": "code",
   "execution_count": 13,
   "id": "1a475f89",
   "metadata": {},
   "outputs": [],
   "source": [
    "df = load_digits()"
   ]
  },
  {
   "cell_type": "code",
   "execution_count": 14,
   "id": "396468b1",
   "metadata": {},
   "outputs": [
    {
     "data": {
      "image/png": "[encoded data removed]",
      "text/plain": [
       "<Figure size 720x216 with 4 Axes>"
      ]
     },
     "metadata": {
      "needs_background": "light"
     },
     "output_type": "display_data"
    }
   ],
   "source": [
    "_, axes = plt.subplots(nrows=1, ncols=4, figsize=(10,3))\n",
    "for ax, image, label in zip(axes, df.images, df.target):\n",
    "    ax.set_axis_off()\n",
    "    ax.imshow(image, cmap=plt.cm.gray_r, interpolation=\"nearest\")\n",
    "    ax.set_title(\"Training: %i\" % label)"
   ]
  },
  {
   "cell_type": "markdown",
   "id": "79a9258c",
   "metadata": {},
   "source": [
    "DATA PREPROCESSING"
   ]
  },
  {
   "cell_type": "markdown",
   "id": "67a07ada",
   "metadata": {},
   "source": [
    "Flatten Image"
   ]
  },
  {
   "cell_type": "code",
   "execution_count": 16,
   "id": "9f7edc72",
   "metadata": {},
   "outputs": [
    {
     "data": {
      "text/plain": [
       "(1797, 8, 8)"
      ]
     },
     "execution_count": 16,
     "metadata": {},
     "output_type": "execute_result"
    }
   ],
   "source": [
    "df.images.shape"
   ]
  },
  {
   "cell_type": "code",
   "execution_count": 18,
   "id": "024756cd",
   "metadata": {},
   "outputs": [
    {
     "data": {
      "text/plain": [
       "array([[ 0.,  0.,  5., 13.,  9.,  1.,  0.,  0.],\n",
       "       [ 0.,  0., 13., 15., 10., 15.,  5.,  0.],\n",
       "       [ 0.,  3., 15.,  2.,  0., 11.,  8.,  0.],\n",
       "       [ 0.,  4., 12.,  0.,  0.,  8.,  8.,  0.],\n",
       "       [ 0.,  5.,  8.,  0.,  0.,  9.,  8.,  0.],\n",
       "       [ 0.,  4., 11.,  0.,  1., 12.,  7.,  0.],\n",
       "       [ 0.,  2., 14.,  5., 10., 12.,  0.,  0.],\n",
       "       [ 0.,  0.,  6., 13., 10.,  0.,  0.,  0.]])"
      ]
     },
     "execution_count": 18,
     "metadata": {},
     "output_type": "execute_result"
    }
   ],
   "source": [
    "df.images[0]"
   ]
  },
  {
   "cell_type": "code",
   "execution_count": 20,
   "id": "2c8ef4dd",
   "metadata": {},
   "outputs": [
    {
     "data": {
      "text/plain": [
       "(8, 8)"
      ]
     },
     "execution_count": 20,
     "metadata": {},
     "output_type": "execute_result"
    }
   ],
   "source": [
    "df.images[0].shape"
   ]
  },
  {
   "cell_type": "code",
   "execution_count": 21,
   "id": "d92d2f84",
   "metadata": {},
   "outputs": [
    {
     "data": {
      "text/plain": [
       "1797"
      ]
     },
     "execution_count": 21,
     "metadata": {},
     "output_type": "execute_result"
    }
   ],
   "source": [
    "len(df.images)"
   ]
  },
  {
   "cell_type": "code",
   "execution_count": 23,
   "id": "32757465",
   "metadata": {},
   "outputs": [],
   "source": [
    "n_samples = len(df.images)\n",
    "data = df.images.reshape((n_samples, -1))"
   ]
  },
  {
   "cell_type": "code",
   "execution_count": 24,
   "id": "22b36ad9",
   "metadata": {},
   "outputs": [
    {
     "data": {
      "text/plain": [
       "array([ 0.,  0.,  5., 13.,  9.,  1.,  0.,  0.,  0.,  0., 13., 15., 10.,\n",
       "       15.,  5.,  0.,  0.,  3., 15.,  2.,  0., 11.,  8.,  0.,  0.,  4.,\n",
       "       12.,  0.,  0.,  8.,  8.,  0.,  0.,  5.,  8.,  0.,  0.,  9.,  8.,\n",
       "        0.,  0.,  4., 11.,  0.,  1., 12.,  7.,  0.,  0.,  2., 14.,  5.,\n",
       "       10., 12.,  0.,  0.,  0.,  0.,  6., 13., 10.,  0.,  0.,  0.])"
      ]
     },
     "execution_count": 24,
     "metadata": {},
     "output_type": "execute_result"
    }
   ],
   "source": [
    "data[0]"
   ]
  },
  {
   "cell_type": "code",
   "execution_count": 25,
   "id": "e392ca59",
   "metadata": {},
   "outputs": [
    {
     "data": {
      "text/plain": [
       "(64,)"
      ]
     },
     "execution_count": 25,
     "metadata": {},
     "output_type": "execute_result"
    }
   ],
   "source": [
    "data[0].shape"
   ]
  },
  {
   "cell_type": "code",
   "execution_count": 26,
   "id": "eb42dc2b",
   "metadata": {},
   "outputs": [
    {
     "data": {
      "text/plain": [
       "(1797, 64)"
      ]
     },
     "execution_count": 26,
     "metadata": {},
     "output_type": "execute_result"
    }
   ],
   "source": [
    "data.shape"
   ]
  },
  {
   "cell_type": "markdown",
   "id": "e79f0cd0",
   "metadata": {},
   "source": [
    "SCALING IMAGE DATA"
   ]
  },
  {
   "cell_type": "code",
   "execution_count": 27,
   "id": "ef844459",
   "metadata": {},
   "outputs": [
    {
     "data": {
      "text/plain": [
       "0.0"
      ]
     },
     "execution_count": 27,
     "metadata": {},
     "output_type": "execute_result"
    }
   ],
   "source": [
    "data.min()"
   ]
  },
  {
   "cell_type": "code",
   "execution_count": 28,
   "id": "2e4b874e",
   "metadata": {},
   "outputs": [
    {
     "data": {
      "text/plain": [
       "16.0"
      ]
     },
     "execution_count": 28,
     "metadata": {},
     "output_type": "execute_result"
    }
   ],
   "source": [
    "data.max()"
   ]
  },
  {
   "cell_type": "code",
   "execution_count": 29,
   "id": "01feb761",
   "metadata": {},
   "outputs": [],
   "source": [
    "data= data/16"
   ]
  },
  {
   "cell_type": "code",
   "execution_count": 30,
   "id": "b5c6cf9f",
   "metadata": {},
   "outputs": [
    {
     "data": {
      "text/plain": [
       "0.0"
      ]
     },
     "execution_count": 30,
     "metadata": {},
     "output_type": "execute_result"
    }
   ],
   "source": [
    "data.min()"
   ]
  },
  {
   "cell_type": "code",
   "execution_count": 31,
   "id": "eeed028b",
   "metadata": {},
   "outputs": [
    {
     "data": {
      "text/plain": [
       "1.0"
      ]
     },
     "execution_count": 31,
     "metadata": {},
     "output_type": "execute_result"
    }
   ],
   "source": [
    "data.max()"
   ]
  },
  {
   "cell_type": "code",
   "execution_count": 32,
   "id": "4ba248fa",
   "metadata": {},
   "outputs": [
    {
     "data": {
      "text/plain": [
       "array([0.    , 0.    , 0.3125, 0.8125, 0.5625, 0.0625, 0.    , 0.    ,\n",
       "       0.    , 0.    , 0.8125, 0.9375, 0.625 , 0.9375, 0.3125, 0.    ,\n",
       "       0.    , 0.1875, 0.9375, 0.125 , 0.    , 0.6875, 0.5   , 0.    ,\n",
       "       0.    , 0.25  , 0.75  , 0.    , 0.    , 0.5   , 0.5   , 0.    ,\n",
       "       0.    , 0.3125, 0.5   , 0.    , 0.    , 0.5625, 0.5   , 0.    ,\n",
       "       0.    , 0.25  , 0.6875, 0.    , 0.0625, 0.75  , 0.4375, 0.    ,\n",
       "       0.    , 0.125 , 0.875 , 0.3125, 0.625 , 0.75  , 0.    , 0.    ,\n",
       "       0.    , 0.    , 0.375 , 0.8125, 0.625 , 0.    , 0.    , 0.    ])"
      ]
     },
     "execution_count": 32,
     "metadata": {},
     "output_type": "execute_result"
    }
   ],
   "source": [
    "data[0]"
   ]
  },
  {
   "cell_type": "markdown",
   "id": "c3b30137",
   "metadata": {},
   "source": [
    "TRAIN TEST SPLIT DATA"
   ]
  },
  {
   "cell_type": "code",
   "execution_count": 33,
   "id": "8218715a",
   "metadata": {},
   "outputs": [],
   "source": [
    "from sklearn.model_selection import train_test_split"
   ]
  },
  {
   "cell_type": "code",
   "execution_count": 34,
   "id": "4d1c317c",
   "metadata": {},
   "outputs": [],
   "source": [
    "X_train, X_test, y_train, y_test = train_test_split(data, df.target, test_size=0.3)"
   ]
  },
  {
   "cell_type": "code",
   "execution_count": 35,
   "id": "d3c5d70a",
   "metadata": {},
   "outputs": [
    {
     "data": {
      "text/plain": [
       "((1257, 64), (540, 64), (1257,), (540,))"
      ]
     },
     "execution_count": 35,
     "metadata": {},
     "output_type": "execute_result"
    }
   ],
   "source": [
    "X_train.shape, X_test.shape, y_train.shape, y_test.shape"
   ]
  },
  {
   "cell_type": "markdown",
   "id": "2b6d9e03",
   "metadata": {},
   "source": [
    "RANDOM FOREST MODEL"
   ]
  },
  {
   "cell_type": "code",
   "execution_count": 36,
   "id": "7bc571a9",
   "metadata": {},
   "outputs": [],
   "source": [
    "from sklearn.ensemble import RandomForestClassifier"
   ]
  },
  {
   "cell_type": "code",
   "execution_count": 37,
   "id": "f5fa059e",
   "metadata": {},
   "outputs": [],
   "source": [
    "rf = RandomForestClassifier()"
   ]
  },
  {
   "cell_type": "code",
   "execution_count": 38,
   "id": "118116a6",
   "metadata": {},
   "outputs": [
    {
     "data": {
      "text/plain": [
       "RandomForestClassifier()"
      ]
     },
     "execution_count": 38,
     "metadata": {},
     "output_type": "execute_result"
    }
   ],
   "source": [
    "rf.fit(X_train, y_train)"
   ]
  },
  {
   "cell_type": "markdown",
   "id": "47c32bd1",
   "metadata": {},
   "source": [
    "PREDICT TEST DATA"
   ]
  },
  {
   "cell_type": "code",
   "execution_count": 39,
   "id": "713900ae",
   "metadata": {},
   "outputs": [],
   "source": [
    "y_pred = rf.predict(X_test)"
   ]
  },
  {
   "cell_type": "code",
   "execution_count": 40,
   "id": "76f62fd6",
   "metadata": {},
   "outputs": [
    {
     "data": {
      "text/plain": [
       "array([9, 9, 0, 4, 3, 9, 1, 2, 2, 7, 7, 8, 5, 6, 4, 9, 0, 7, 3, 2, 9, 6,\n",
       "       8, 7, 3, 9, 9, 1, 7, 7, 0, 0, 1, 9, 8, 2, 8, 5, 2, 7, 0, 9, 9, 5,\n",
       "       7, 9, 5, 6, 7, 5, 1, 2, 2, 9, 7, 2, 9, 0, 7, 5, 3, 7, 6, 1, 9, 5,\n",
       "       8, 9, 1, 7, 9, 4, 8, 5, 3, 6, 8, 0, 1, 5, 1, 1, 1, 7, 4, 8, 2, 0,\n",
       "       1, 1, 0, 9, 4, 4, 3, 4, 3, 5, 9, 0, 4, 2, 0, 8, 8, 9, 4, 2, 6, 6,\n",
       "       2, 1, 3, 7, 0, 8, 1, 6, 3, 1, 8, 2, 2, 7, 6, 0, 4, 4, 1, 5, 3, 6,\n",
       "       2, 5, 8, 7, 5, 3, 0, 5, 9, 5, 2, 6, 8, 4, 4, 1, 4, 9, 1, 5, 7, 4,\n",
       "       9, 0, 6, 4, 8, 0, 8, 3, 4, 1, 6, 5, 2, 5, 3, 2, 4, 2, 3, 4, 0, 0,\n",
       "       7, 2, 0, 4, 8, 8, 8, 4, 2, 7, 8, 7, 6, 8, 8, 1, 6, 4, 0, 5, 8, 9,\n",
       "       1, 4, 9, 4, 1, 3, 9, 2, 5, 8, 5, 1, 3, 0, 7, 8, 0, 6, 3, 4, 2, 5,\n",
       "       8, 9, 2, 7, 2, 9, 3, 1, 0, 2, 9, 5, 2, 7, 0, 8, 7, 5, 9, 2, 5, 6,\n",
       "       3, 1, 6, 8, 1, 1, 6, 4, 8, 9, 5, 1, 2, 1, 5, 4, 2, 6, 8, 0, 1, 3,\n",
       "       3, 1, 2, 4, 5, 9, 4, 4, 5, 7, 6, 8, 1, 3, 7, 5, 9, 7, 6, 2, 1, 1,\n",
       "       8, 1, 1, 3, 6, 4, 4, 7, 1, 2, 0, 8, 6, 1, 2, 2, 8, 5, 1, 4, 9, 1,\n",
       "       3, 4, 5, 9, 8, 8, 9, 5, 9, 4, 7, 9, 5, 1, 0, 8, 9, 2, 7, 8, 6, 4,\n",
       "       8, 9, 1, 9, 1, 4, 0, 9, 5, 2, 5, 9, 8, 5, 0, 4, 2, 1, 9, 0, 4, 1,\n",
       "       0, 9, 0, 9, 5, 0, 6, 0, 8, 6, 6, 3, 2, 0, 3, 2, 8, 0, 7, 4, 3, 4,\n",
       "       2, 5, 0, 6, 7, 8, 4, 3, 1, 2, 8, 5, 1, 9, 7, 0, 8, 6, 8, 4, 7, 5,\n",
       "       6, 9, 0, 5, 5, 4, 6, 9, 1, 7, 5, 6, 0, 9, 1, 7, 9, 0, 9, 1, 6, 0,\n",
       "       7, 3, 1, 8, 9, 0, 6, 9, 6, 1, 3, 3, 7, 3, 9, 5, 2, 0, 2, 9, 0, 6,\n",
       "       9, 3, 1, 3, 7, 4, 0, 5, 4, 1, 7, 2, 7, 6, 4, 7, 9, 3, 2, 0, 7, 7,\n",
       "       4, 2, 4, 3, 6, 0, 4, 0, 0, 4, 9, 1, 2, 3, 9, 2, 7, 0, 4, 7, 7, 1,\n",
       "       5, 6, 3, 7, 1, 2, 6, 6, 6, 9, 3, 1, 8, 1, 5, 7, 5, 4, 0, 1, 3, 7,\n",
       "       3, 5, 1, 6, 1, 6, 1, 5, 1, 2, 5, 3, 0, 5, 2, 0, 9, 4, 8, 2, 1, 7,\n",
       "       7, 5, 4, 9, 8, 5, 1, 1, 4, 1, 7, 8])"
      ]
     },
     "execution_count": 40,
     "metadata": {},
     "output_type": "execute_result"
    }
   ],
   "source": [
    "y_pred"
   ]
  },
  {
   "cell_type": "markdown",
   "id": "21858154",
   "metadata": {},
   "source": [
    "MODEL ACCURACY"
   ]
  },
  {
   "cell_type": "code",
   "execution_count": 41,
   "id": "816e46ae",
   "metadata": {},
   "outputs": [],
   "source": [
    "from sklearn.metrics import confusion_matrix, classification_report"
   ]
  },
  {
   "cell_type": "code",
   "execution_count": 42,
   "id": "4c9db5c0",
   "metadata": {},
   "outputs": [
    {
     "data": {
      "text/plain": [
       "array([[54,  0,  0,  0,  0,  0,  0,  0,  0,  0],\n",
       "       [ 0, 64,  0,  0,  0,  0,  0,  0,  0,  0],\n",
       "       [ 0,  1, 53,  0,  0,  0,  0,  0,  0,  0],\n",
       "       [ 0,  0,  0, 41,  0,  1,  0,  0,  1,  0],\n",
       "       [ 0,  1,  0,  0, 56,  0,  0,  1,  0,  1],\n",
       "       [ 0,  0,  0,  0,  0, 54,  0,  0,  0,  0],\n",
       "       [ 0,  0,  0,  0,  0,  0, 45,  0,  1,  0],\n",
       "       [ 0,  0,  0,  0,  0,  0,  0, 52,  0,  1],\n",
       "       [ 0,  2,  0,  0,  0,  0,  0,  1, 49,  1],\n",
       "       [ 0,  0,  0,  1,  0,  0,  0,  0,  0, 59]], dtype=int64)"
      ]
     },
     "execution_count": 42,
     "metadata": {},
     "output_type": "execute_result"
    }
   ],
   "source": [
    "confusion_matrix(y_test, y_pred)"
   ]
  },
  {
   "cell_type": "code",
   "execution_count": 43,
   "id": "ae717988",
   "metadata": {},
   "outputs": [
    {
     "name": "stdout",
     "output_type": "stream",
     "text": [
      "              precision    recall  f1-score   support\n",
      "\n",
      "           0       1.00      1.00      1.00        54\n",
      "           1       0.94      1.00      0.97        64\n",
      "           2       1.00      0.98      0.99        54\n",
      "           3       0.98      0.95      0.96        43\n",
      "           4       1.00      0.95      0.97        59\n",
      "           5       0.98      1.00      0.99        54\n",
      "           6       1.00      0.98      0.99        46\n",
      "           7       0.96      0.98      0.97        53\n",
      "           8       0.96      0.92      0.94        53\n",
      "           9       0.95      0.98      0.97        60\n",
      "\n",
      "    accuracy                           0.98       540\n",
      "   macro avg       0.98      0.98      0.98       540\n",
      "weighted avg       0.98      0.98      0.98       540\n",
      "\n"
     ]
    }
   ],
   "source": [
    "print(classification_report(y_test, y_pred))"
   ]
  },
  {
   "cell_type": "code",
   "execution_count": null,
   "id": "86b23b6f",
   "metadata": {},
   "outputs": [],
   "source": []
  }
 ],
 "metadata": {
  "kernelspec": {
   "display_name": "Python 3 (ipykernel)",
   "language": "python",
   "name": "python3"
  },
  "language_info": {
   "codemirror_mode": {
    "name": "ipython",
    "version": 3
   },
   "file_extension": ".py",
   "mimetype": "text/x-python",
   "name": "python",
   "nbconvert_exporter": "python",
   "pygments_lexer": "ipython3",
   "version": "3.9.12"
  }
 },
 "nbformat": 4,
 "nbformat_minor": 5
}
